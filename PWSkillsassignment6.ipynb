{
 "cells": [
  {
   "cell_type": "markdown",
   "id": "6d004249",
   "metadata": {},
   "source": [
    "### PW Skills Assignment 6 on OOPS"
   ]
  },
  {
   "cell_type": "markdown",
   "id": "d3e2713b",
   "metadata": {},
   "source": [
    "#### Q1, Create a vehicle class with an init method having instance variables as name_of_vehicle, max_speed and average_of_vehicle."
   ]
  },
  {
   "cell_type": "code",
   "execution_count": 1,
   "id": "7edf14c0",
   "metadata": {},
   "outputs": [],
   "source": [
    "class vehicle:\n",
    "    def __init__(self,name_of_vehicle,max_speed,average_of_vehicle):\n",
    "        self.name_of_vehicle=name_of_vehicle\n",
    "        self.max_speed=max_speed\n",
    "        self.average_of_vehicle=average_of_vehicle\n",
    "obj_vehicle=vehicle(\"Car\",120,100)"
   ]
  },
  {
   "cell_type": "markdown",
   "id": "45ca1ae9",
   "metadata": {},
   "source": [
    "#### Q2. Create a child class car from the vehicle class created in Que 1, which will inherit the vehicle class.Create a method named seating_capacity which takes capacity as an argument and returns the name of the vehicle and its seating capacity."
   ]
  },
  {
   "cell_type": "code",
   "execution_count": 2,
   "id": "781ceca4",
   "metadata": {},
   "outputs": [
    {
     "data": {
      "text/plain": [
       "'The name of the vehicle is:suzuki, The seating capacity of the vehicle: 1000'"
      ]
     },
     "execution_count": 2,
     "metadata": {},
     "output_type": "execute_result"
    }
   ],
   "source": [
    "class vehicle:\n",
    "    def __init__(self,name_of_vehicle,max_speed,average_of_vehicle):\n",
    "        self.name_of_vehicle=name_of_vehicle\n",
    "        self.max_speed=max_speed\n",
    "        self.average_of_vehicle=average_of_vehicle\n",
    "    \n",
    "class child_vehicle(vehicle):\n",
    "    \n",
    "    def seating_capacity(self,capacity):\n",
    "        self.capacity=capacity\n",
    "        return f\"The name of the vehicle is:{self.name_of_vehicle}, The seating capacity of the vehicle: {self.capacity}\"\n",
    "    \n",
    "obj_child_vehicle=child_vehicle(\"suzuki\",990,800)\n",
    "obj_child_vehicle.seating_capacity(1000)"
   ]
  },
  {
   "cell_type": "markdown",
   "id": "60a70262",
   "metadata": {},
   "source": [
    "#### Q3. What is multiple inheritance? Write a python code to demonstrate multiple inheritance."
   ]
  },
  {
   "cell_type": "markdown",
   "id": "6e8f0c32",
   "metadata": {},
   "source": [
    "Multiple inheritance --> When a class can be derived from more than one base class this type of inheritance is called multiple inheritances. In multiple inheritances, all the features of the base classes are inherited into the derived class/child class."
   ]
  },
  {
   "cell_type": "code",
   "execution_count": 3,
   "id": "b7865927",
   "metadata": {},
   "outputs": [
    {
     "name": "stdout",
     "output_type": "stream",
     "text": [
      "Father : RAM\n",
      "Mother : SITA\n",
      "RAM\n",
      "SITA\n"
     ]
    }
   ],
   "source": [
    "class Mother:\n",
    "    mothername = \"\"\n",
    " \n",
    "    def mother(self):\n",
    "        print(self.mothername)\n",
    " \n",
    "# Base class2\n",
    " \n",
    " \n",
    "class Father:\n",
    "    fathername = \"\"\n",
    " \n",
    "    def father(self):\n",
    "        print(self.fathername)\n",
    " \n",
    "# Derived class\n",
    " \n",
    " \n",
    "class Son(Mother, Father):\n",
    "    def parents(self):\n",
    "        print(\"Father :\", self.fathername)\n",
    "        print(\"Mother :\", self.mothername)\n",
    " \n",
    " \n",
    "# Driver's code\n",
    "s1 = Son()\n",
    "s1.fathername = \"RAM\"\n",
    "s1.mothername = \"SITA\"\n",
    "s1.parents()\n",
    "s1.father()\n",
    "s1.mother()"
   ]
  },
  {
   "cell_type": "markdown",
   "id": "3caa4e82",
   "metadata": {},
   "source": [
    "#### Q4. What are getter and setter in python? Create a class and create a getter and a setter method in this class."
   ]
  },
  {
   "cell_type": "markdown",
   "id": "0d4c5093",
   "metadata": {},
   "source": [
    "Getter, setter is used to get or set the value of the private attribute. Let's create a class and getter and setter methods to access the private attribute below:"
   ]
  },
  {
   "cell_type": "code",
   "execution_count": 4,
   "id": "979177ff",
   "metadata": {},
   "outputs": [
    {
     "name": "stdout",
     "output_type": "stream",
     "text": [
      "Before setting the new value to private attribute : 20\n",
      "After setting new value to private attribute : 200\n"
     ]
    }
   ],
   "source": [
    "class Vehicle:\n",
    "    def __init__(self,a,b):\n",
    "        self.a=a\n",
    "        self.__b=b # b is the private variable\n",
    "    def get_b(self): #getter method\n",
    "        return self.__b\n",
    "    def set_b(self,new_b): # setter method\n",
    "        self.__b=new_b\n",
    "obj_veh=Vehicle(10,20) # object declaration\n",
    "print(\"Before setting the new value to private attribute :\",obj_veh.get_b()) # accesing the value of private attribute using the getter method\n",
    "obj_veh.set_b(200) # setting the new value for the private attribute using set_b method\n",
    "print(\"After setting new value to private attribute :\",obj_veh.get_b())"
   ]
  },
  {
   "cell_type": "markdown",
   "id": "e54b1601",
   "metadata": {},
   "source": [
    "#### Q5.What is method overriding in python? Write a python code to demonstrate method overriding."
   ]
  },
  {
   "cell_type": "markdown",
   "id": "1f4fbdb5",
   "metadata": {},
   "source": [
    "Method overriding is an ability of any object-oriented programming language that allows a subclass or child class to provide a specific implementation of a method that is already provided by one of its super-classes or parent classes. When a method in a subclass has the same name, same parameters or signature and same return type(or sub-type) as a method in its super-class, then the method in the subclass is said to override the method in the super-class."
   ]
  },
  {
   "cell_type": "code",
   "execution_count": 5,
   "id": "10011d83",
   "metadata": {},
   "outputs": [
    {
     "name": "stdout",
     "output_type": "stream",
     "text": [
      "Inside Parent\n",
      "Inside Child\n"
     ]
    }
   ],
   "source": [
    "class Vehicle():\n",
    "      \n",
    "    # Constructor\n",
    "    def __init__(self):\n",
    "        self.value = \"Inside Parent\"\n",
    "          \n",
    "    # Parent's show method\n",
    "    def show(self):\n",
    "        print(self.value)\n",
    "          \n",
    "# Defining child class\n",
    "class Suzuki(Vehicle):\n",
    "      \n",
    "    # Constructor\n",
    "    def __init__(self):\n",
    "        self.value = \"Inside Child\"\n",
    "          \n",
    "    # Child's show method\n",
    "    def show(self):\n",
    "        print(self.value)\n",
    "          \n",
    "          \n",
    "# Driver's code\n",
    "obj1 = Vehicle()\n",
    "obj2 = Suzuki()\n",
    "  \n",
    "obj1.show()\n",
    "obj2.show() # Parent class also have show method but child class overridden that method as the child class alrady have a same method"
   ]
  }
 ],
 "metadata": {
  "kernelspec": {
   "display_name": "Python 3 (ipykernel)",
   "language": "python",
   "name": "python3"
  },
  "language_info": {
   "codemirror_mode": {
    "name": "ipython",
    "version": 3
   },
   "file_extension": ".py",
   "mimetype": "text/x-python",
   "name": "python",
   "nbconvert_exporter": "python",
   "pygments_lexer": "ipython3",
   "version": "3.9.12"
  }
 },
 "nbformat": 4,
 "nbformat_minor": 5
}
